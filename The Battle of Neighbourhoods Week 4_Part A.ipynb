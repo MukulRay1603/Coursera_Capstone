{
 "cells": [
  {
   "cell_type": "markdown",
   "metadata": {},
   "source": [
    "<H1>The Battle of Neighborhoods"
   ]
  },
  {
   "cell_type": "markdown",
   "metadata": {},
   "source": [
    "<H2><I> Week 4 : part A"
   ]
  },
  {
   "cell_type": "markdown",
   "metadata": {},
   "source": [
    "<H1> Title: Restaurant Suggestion System in Chennai"
   ]
  },
  {
   "cell_type": "markdown",
   "metadata": {},
   "source": [
    "<H2> Problem Background"
   ]
  },
  {
   "cell_type": "markdown",
   "metadata": {},
   "source": [
    "Chennai formerly known as Madras, is the capital of the Indian state of Tamil Nadu. Located on the Coromandel Coast of the Bay of Bengal, it is one of the largest cultural, economic and educational centres of south India. According to the 2011 Indian census, it is the sixth-most populous city and fourth-most populous urban agglomeration in India.\n",
    "    \n",
    "The first thing that comes to our mind while talking about Chennai cuisine is the early morning special ‘Filter Coffee’ and the all-time favourite ‘Thayir Sadam’ (curd rice). Other than that, the city has a variety of cuisine to offer food lovers – from the typical Idly-Sambhar to the spicy Chettinad dishes. While the authentic multi-cuisine restaurants are famous for their specific delicacies, carts selling steaming hot Idly-Chutney-Sambhar to office goers, small stalls selling Poli and Mini-Samosa at street corners and the Sundal, Bajji and Chat stalls at the beaches still remain the people’s choice."
   ]
  },
  {
   "cell_type": "markdown",
   "metadata": {},
   "source": [
    "Now most of the people in chennai can experience a variety of cuisine like South Indian, North Indian, Muslim food, Chinese and Western fast food,etc which are a few of the very popular ones. "
   ]
  },
  {
   "cell_type": "markdown",
   "metadata": {},
   "source": [
    "<H2>Problem Definition"
   ]
  },
  {
   "cell_type": "markdown",
   "metadata": {},
   "source": [
    "As a person who loves to travel and visit soo many places, one might particularly be intersted in that place's cuisines too. Food and Travel are the best combination to ensure a happy and satisfied trip. If a person he/she loved the food at a place they're more likely to suggest that place to friend,colleage or another person which benefits the customer by giving them satisfaction and the profits to the restaurant.\n",
    "In such scenarios, we need to find restaurants at place and reasonable cost."
   ]
  },
  {
   "cell_type": "markdown",
   "metadata": {},
   "source": [
    "Few important points that must be addresed :\n",
    "\n",
    "1. Nearest restaurants having the best feedbacks and reviews.\n",
    "2. The different types of foods are available in the restaurant.\n",
    "3. How many similar restaurants are available near by me ?\n",
    "4. Comparing similar restaurants by price and their uniqueness/speciality."
   ]
  },
  {
   "cell_type": "markdown",
   "metadata": {},
   "source": [
    "Expectations from this system is to get answers for the previous requirements in such a way that it handles all the work of suggesting restaurants based on certain preferences like:\n",
    "\n",
    "Types of restaurants present in a particular area.\n",
    "Location/Address of the similar restaurants present based on preference to particular food.\n",
    "How do different restaurants rank with respect to my preferences."
   ]
  },
  {
   "cell_type": "markdown",
   "metadata": {},
   "source": [
    "<H2> Target Audience"
   ]
  },
  {
   "cell_type": "markdown",
   "metadata": {},
   "source": [
    "The major target audience for this project would absolutely anybody who are willing to try out new food, explore or you can say foodies who love food. \n",
    "It can also benefit people who are looking forward to try a particular type of food, and there are few people who like to eat at restaurants based on their rank or stars.\n",
    "Hence, we can conclude this project is for everyone who are exploring different places or similar places looking for restaurants."
   ]
  },
  {
   "cell_type": "markdown",
   "metadata": {},
   "source": [
    "<H2> Success Rate"
   ]
  },
  {
   "cell_type": "markdown",
   "metadata": {},
   "source": [
    "There are many people who love to travel and take a break from their stressed routine lives, and the best option is travelling and having the best food. With the generation of technology beside us now, one can easily get his/her smartphone to ask suggestions about where to go for a meal. Computers can store data for long and with the developement of ML and AI algorihtms data keeps updating and evaluates to much better results as days keep passing by."
   ]
  },
  {
   "cell_type": "code",
   "execution_count": null,
   "metadata": {},
   "outputs": [],
   "source": []
  }
 ],
 "metadata": {
  "kernelspec": {
   "display_name": "Python 3",
   "language": "python",
   "name": "python3"
  },
  "language_info": {
   "codemirror_mode": {
    "name": "ipython",
    "version": 3
   },
   "file_extension": ".py",
   "mimetype": "text/x-python",
   "name": "python",
   "nbconvert_exporter": "python",
   "pygments_lexer": "ipython3",
   "version": "3.8.3"
  }
 },
 "nbformat": 4,
 "nbformat_minor": 4
}
